{
 "cells": [
  {
   "cell_type": "code",
   "execution_count": 2,
   "id": "15e6cf06",
   "metadata": {},
   "outputs": [],
   "source": [
    "import pandas as pd"
   ]
  },
  {
   "cell_type": "code",
   "execution_count": 61,
   "id": "15281d9a",
   "metadata": {},
   "outputs": [],
   "source": [
    "df = pd.read_excel('./data/data_AI_and_Human_generated_texts.xlsx', sheet_name='AI_and_Human_generated_texts')\n",
    "true_responses = ['No', 'Yes', 'Yes', 'No', 'Yes', 'No']"
   ]
  },
  {
   "cell_type": "code",
   "execution_count": 78,
   "id": "134f264b",
   "metadata": {},
   "outputs": [
    {
     "name": "stdout",
     "output_type": "stream",
     "text": [
      "True\n",
      "288\n"
     ]
    }
   ],
   "source": [
    "print('No' in df['Is the following text AI generated? (1)'].values)\n",
    "#print(df[df['Age'] == '26 - 30'][['Age', 'Study Field']])\n",
    "print(df.shape[0] * 6)"
   ]
  },
  {
   "cell_type": "code",
   "execution_count": 92,
   "id": "e14eda8d",
   "metadata": {},
   "outputs": [],
   "source": [
    "def get_classification_rate(group):\n",
    "    number_of_correct_classification = 0\n",
    "    for index, row in group.iterrows():\n",
    "        for i in range(6):\n",
    "            if row['Is the following text AI generated? ({})'.format(i+1)] == true_responses[i]:\n",
    "                number_of_correct_classification+=1\n",
    "    return number_of_correct_classification / (group.shape[0]*6)\n",
    "        "
   ]
  },
  {
   "cell_type": "code",
   "execution_count": 95,
   "id": "cc6a370b",
   "metadata": {},
   "outputs": [
    {
     "name": "stdout",
     "output_type": "stream",
     "text": [
      "26 - 30 0.5333333333333333\n",
      "21 - 25 0.5892857142857143\n",
      "26 - 30 0.5333333333333333\n",
      "21 - 25 0.5892857142857143\n",
      "21 - 25 0.5892857142857143\n",
      "31 - 35 0.6666666666666666\n",
      "21 - 25 0.5892857142857143\n",
      "36 - 40 0.5\n",
      "16 - 20 0.5555555555555556\n",
      "21 - 25 0.5892857142857143\n",
      "21 - 25 0.5892857142857143\n",
      "16 - 20 0.5555555555555556\n",
      "21 - 25 0.5892857142857143\n",
      "21 - 25 0.5892857142857143\n",
      "21 - 25 0.5892857142857143\n",
      "21 - 25 0.5892857142857143\n",
      "26 - 30 0.5333333333333333\n",
      "36 - 40 0.5\n",
      "26 - 30 0.5333333333333333\n",
      "16 - 20 0.5555555555555556\n",
      "16 - 20 0.5555555555555556\n",
      "21 - 25 0.5892857142857143\n",
      "26 - 30 0.5333333333333333\n",
      "21 - 25 0.5892857142857143\n",
      "21 - 25 0.5892857142857143\n",
      "26 - 30 0.5333333333333333\n",
      "21 - 25 0.5892857142857143\n",
      "21 - 25 0.5892857142857143\n",
      "21 - 25 0.5892857142857143\n",
      "26 - 30 0.5333333333333333\n",
      "21 - 25 0.5892857142857143\n",
      "21 - 25 0.5892857142857143\n",
      "21 - 25 0.5892857142857143\n",
      "21 - 25 0.5892857142857143\n",
      "16 - 20 0.5555555555555556\n",
      "21 - 25 0.5892857142857143\n",
      "21 - 25 0.5892857142857143\n",
      "26 - 30 0.5333333333333333\n",
      "26 - 30 0.5333333333333333\n",
      "21 - 25 0.5892857142857143\n",
      "21 - 25 0.5892857142857143\n",
      "26 - 30 0.5333333333333333\n",
      "16 - 20 0.5555555555555556\n",
      "21 - 25 0.5892857142857143\n",
      "21 - 25 0.5892857142857143\n",
      "21 - 25 0.5892857142857143\n",
      "21 - 25 0.5892857142857143\n",
      "76 - 80 0.5\n"
     ]
    }
   ],
   "source": [
    "## Classification rates based on the age\n",
    "stats = {'Age': [],\n",
    "         'Study Field': [],\n",
    "         'Study Level': []}\n",
    "stats_df = pd.DataFrame(stats)\n",
    "print(stats_df)\n",
    "for age_range in df['Age'].values:\n",
    "    group = df[df['Age'] == age_range]\n",
    "    print(age_range, get_classification_rate(group))"
   ]
  },
  {
   "cell_type": "code",
   "execution_count": null,
   "id": "14118f94",
   "metadata": {},
   "outputs": [],
   "source": []
  }
 ],
 "metadata": {
  "kernelspec": {
   "display_name": "Python 3 (ipykernel)",
   "language": "python",
   "name": "python3"
  },
  "language_info": {
   "codemirror_mode": {
    "name": "ipython",
    "version": 3
   },
   "file_extension": ".py",
   "mimetype": "text/x-python",
   "name": "python",
   "nbconvert_exporter": "python",
   "pygments_lexer": "ipython3",
   "version": "3.10.12"
  }
 },
 "nbformat": 4,
 "nbformat_minor": 5
}
